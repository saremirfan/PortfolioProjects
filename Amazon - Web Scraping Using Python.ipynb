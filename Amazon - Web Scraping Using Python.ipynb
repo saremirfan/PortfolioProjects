{
 "cells": [
  {
   "cell_type": "code",
   "execution_count": 1,
   "id": "f236cbb9",
   "metadata": {},
   "outputs": [],
   "source": [
    "# Beginning the project with importing libraries. \n",
    "\n",
    "from bs4 import BeautifulSoup\n",
    "import requests\n",
    "import time\n",
    "import datetime\n",
    "import smtplib"
   ]
  },
  {
   "cell_type": "code",
   "execution_count": 16,
   "id": "9b531b61",
   "metadata": {},
   "outputs": [
    {
     "name": "stdout",
     "output_type": "stream",
     "text": [
      "\n",
      "                   Funny Got Data MIS Data Systems Business Analyst T-Shirt\n",
      "                  \n",
      "\n",
      "                    $16.99\n",
      "                   \n"
     ]
    }
   ],
   "source": [
    "# Connecting to Amazon.\n",
    "# You can replace the Amazon link below with any other product being sold that you want to keep your eye on.\n",
    "\n",
    "URL = 'https://www.amazon.com/Funny-Data-Systems-Business-Analyst/dp/B07FNW9FGJ/ref=sr_1_3?dchild=1&keywords=data%2Banalyst%2Btshirt&qid=1626655184&sr=8-3&customId=B0752XJYNL&th=1'\n",
    "\n",
    "# Got headers from: http://httpbin.org/get\n",
    "\n",
    "headers = {\"User-Agent\": \"Mozilla/5.0 (Windows NT 10.0; Win64; x64) AppleWebKit/537.36 (KHTML, like Gecko) Chrome/78.0.3904.108 Safari/537.36\"}\n",
    "\n",
    "page = requests.get(URL, headers=headers)\n",
    "\n",
    "# Had to change the 'html.parser to 'lxml' as Amazon kept refusing the request.\n",
    "# I have a feeling that this webscraper will stop working as I keep getting HTML errors occasionaly. \n",
    "# (Spoiler: it does beceause it goes against terms and policies apparently :C)\n",
    "\n",
    "soup1 = BeautifulSoup(page.content, \"lxml\")\n",
    "\n",
    "soup2 = BeautifulSoup(soup1.prettify(), \"lxml\")\n",
    "\n",
    "title = soup2.find(id='productTitle').get_text()\n",
    "\n",
    "price = soup2.find(id='priceblock_ourprice').get_text()\n",
    "\n",
    "print(title)\n",
    "print(price)"
   ]
  },
  {
   "cell_type": "code",
   "execution_count": 17,
   "id": "b6f7d66e",
   "metadata": {},
   "outputs": [
    {
     "name": "stdout",
     "output_type": "stream",
     "text": [
      "Funny Got Data MIS Data Systems Business Analyst T-Shirt\n",
      "16.99\n"
     ]
    }
   ],
   "source": [
    "# With this command I will move the data to the left.\n",
    "\n",
    "price = price.strip()[1:]\n",
    "title = title.strip()\n",
    "\n",
    "print(title)\n",
    "print(price)"
   ]
  },
  {
   "cell_type": "code",
   "execution_count": 9,
   "id": "4bda0290",
   "metadata": {},
   "outputs": [
    {
     "name": "stdout",
     "output_type": "stream",
     "text": [
      "2023-09-27\n"
     ]
    }
   ],
   "source": [
    "# This will help keep track of date and time for data and when I last checked price of item on Amazon.\n",
    "\n",
    "import datetime\n",
    "\n",
    "today = datetime.date.today()\n",
    "\n",
    "print(today)"
   ]
  },
  {
   "cell_type": "code",
   "execution_count": 22,
   "id": "14d703ca",
   "metadata": {},
   "outputs": [],
   "source": [
    "# Create a CSV and write headers and data into the file.\n",
    "# This will act as storage for the data that we are scraping from Amazon.\n",
    "\n",
    "import csv \n",
    "\n",
    "header = ['Title', 'Price', 'Date']\n",
    "data = [title, price, today]\n",
    "\n",
    "with open('AmazonWebScraperDataset.csv', 'w', newline='', encoding='UTF8') as f:\n",
    "    writer = csv.writer(f)\n",
    "    writer.writerow(header)\n",
    "    writer.writerow(data)"
   ]
  },
  {
   "cell_type": "code",
   "execution_count": null,
   "id": "d07eeb86",
   "metadata": {},
   "outputs": [],
   "source": [
    "# This command shows the variables that exist within the excel file that was created by the last command.\n",
    "# It simply outputs the last stored data from the CSV file created above.\n",
    "\n",
    "import pandas as pd\n",
    "\n",
    "df = pd.read_csv(r'C:\\Users\\sarem\\AmazonWebScraperDataset.csv')\n",
    "\n",
    "print(df)"
   ]
  },
  {
   "cell_type": "code",
   "execution_count": 29,
   "id": "6b05c1eb",
   "metadata": {},
   "outputs": [],
   "source": [
    "# Now we are appending data to the CSV file.\n",
    "\n",
    "with open('AmazonWebScraperDataset.csv', 'a+', newline='', encoding='UTF8') as f:\n",
    "    writer = csv.writer(f)\n",
    "    writer.writerow(data)"
   ]
  },
  {
   "cell_type": "code",
   "execution_count": 31,
   "id": "8e95b9e0",
   "metadata": {},
   "outputs": [],
   "source": [
    "# Finally, we are combining all of the above code into one function so that way we can automate it in the next command.\n",
    "\n",
    "def check_price():\n",
    "    \n",
    "    URL = 'https://www.amazon.com/Funny-Data-Systems-Business-Analyst/dp/B07FNW9FGJ/ref=sr_1_3?dchild=1&keywords=data%2Banalyst%2Btshirt&qid=1626655184&sr=8-3&customId=B0752XJYNL&th=1'\n",
    "\n",
    "    headers = {\"User-Agent\": \"Mozilla/5.0 (Windows NT 10.0; Win64; x64) AppleWebKit/537.36 (KHTML, like Gecko) Chrome/78.0.3904.108 Safari/537.36\"}\n",
    "\n",
    "    page = requests.get(URL, headers=headers)\n",
    "\n",
    "    soup1 = BeautifulSoup(page.content, \"lxml\")\n",
    "\n",
    "    soup2 = BeautifulSoup(soup1.prettify(), \"lxml\")\n",
    "\n",
    "    title = soup2.find(id='productTitle').get_text()\n",
    "\n",
    "    price = soup2.find(id='priceblock_ourprice').get_text()\n",
    "\n",
    "    price = price.strip()[1:]\n",
    "    title = title.strip()\n",
    "\n",
    "import datetime\n",
    "\n",
    "    today = datetime.date.today()\n",
    "    \n",
    "import csv \n",
    "\n",
    "    header = ['Title', 'Price', 'Date']\n",
    "    data = [title, price, today]\n",
    "\n",
    "with open('AmazonWebScraperDataset.csv', 'a+', newline='', encoding='UTF8') as f:\n",
    "        writer = csv.writer(f)\n",
    "        writer.writerow(data)\n",
    "\n",
    "# This will allow me to see when the price drops below a certain value, in this case 12.\n",
    "        \n",
    "if(price < 12):\n",
    "        send_email()"
   ]
  },
  {
   "cell_type": "code",
   "execution_count": null,
   "id": "c72f2c4e",
   "metadata": {},
   "outputs": [],
   "source": [
    "# This will run the 'check_price' after a set time and inputs data into my CSV file that I created.\n",
    "\n",
    "while(True):\n",
    "    check_price()\n",
    "    time.sleep(172800) # This will check the price of the item I selected on Amazon every two days. This can be changed to any time I feel."
   ]
  },
  {
   "cell_type": "code",
   "execution_count": null,
   "id": "00af7126",
   "metadata": {},
   "outputs": [],
   "source": [
    "# This prints the data.\n",
    "\n",
    "import pandas as pd\n",
    "\n",
    "df = pd.read_csv(r'C:\\Users\\sarem\\AmazonWebScraperDataset.csv')\n",
    "\n",
    "print(df)"
   ]
  },
  {
   "cell_type": "code",
   "execution_count": null,
   "id": "d14fce5f",
   "metadata": {},
   "outputs": [],
   "source": [
    "# I can have an email sent to me as an alert when a price hits below a certain level.\n",
    "\n",
    "def send_mail():\n",
    "    server = smtplib.SMTP_SSL('smtp.gmail.com',465)\n",
    "    server.ehlo()\n",
    "    #server.starttls()\n",
    "    server.ehlo()\n",
    "    server.login('sarem.irfan@gmail.com','xxxxxxxxxxxxxx') # Can't give you my password :)\n",
    "    \n",
    "    subject = \"The Shirt you want is finally $12! Now is your chance to buy!\"\n",
    "    body = \"Sarem, this is your moment! Now is your chance to pick up the shirt of your dreams. Link here: https://www.amazon.com/Funny-Data-Systems-Business-Analyst/dp/B07FNW9FGJ/ref=sr_1_3?dchild=1&keywords=data+analyst+tshirt&qid=1626655184&sr=8-3\"\n",
    "   \n",
    "    msg = f\"Subject: {subject}\\n\\n{body}\"\n",
    "    \n",
    "    server.sendmail(\n",
    "        'sarem.irfan@gmail.com',\n",
    "        msg\n",
    "     \n",
    "    )"
   ]
  },
  {
   "cell_type": "code",
   "execution_count": null,
   "id": "0848b73a",
   "metadata": {},
   "outputs": [],
   "source": [
    "# NOTE: UNFORTUNATELY AMAZON KEEPS STOPPING THIS WEBSCRAPER AS IT GOES AGAINST THEIR TERMS AND POLICIES.\n",
    "# I HAVE TRIED TO CREATE WORK AROUNDS, BUT THEY KEEP GETTING FOUND!\n",
    "# IN A FUTURE PROJECT I WILL TRY AND CREATE ANOTHER WEBSCRAPER.\n",
    "# A LOT OF THE COMMANDS BROKE UNFORTUNATELY. :c"
   ]
  }
 ],
 "metadata": {
  "kernelspec": {
   "display_name": "Python 3 (ipykernel)",
   "language": "python",
   "name": "python3"
  },
  "language_info": {
   "codemirror_mode": {
    "name": "ipython",
    "version": 3
   },
   "file_extension": ".py",
   "mimetype": "text/x-python",
   "name": "python",
   "nbconvert_exporter": "python",
   "pygments_lexer": "ipython3",
   "version": "3.11.4"
  }
 },
 "nbformat": 4,
 "nbformat_minor": 5
}
